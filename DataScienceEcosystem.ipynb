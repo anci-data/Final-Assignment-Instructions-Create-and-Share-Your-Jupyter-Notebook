{
 "cells": [
  {
   "cell_type": "markdown",
   "id": "8c6f1845-a02d-4a14-bdab-530053dbd0c2",
   "metadata": {},
   "source": [
    "# Data Science Tools and Ecosystem"
   ]
  },
  {
   "cell_type": "markdown",
   "id": "cd3c6b8a-8b4a-4269-aae5-f6b413f35655",
   "metadata": {},
   "source": [
    "In this notebook, Data Science Tools and Ecosystem are summarized."
   ]
  },
  {
   "cell_type": "markdown",
   "id": "9dfaa0e1-670a-4e2e-a56b-296ded632240",
   "metadata": {},
   "source": [
    "Some of the popular languages that Data Scientists use are:"
   ]
  },
  {
   "cell_type": "markdown",
   "id": "fddd5bcf-8c57-4134-85bf-b239ea6da69a",
   "metadata": {
    "tags": []
   },
   "source": [
    "1. Python\n",
    "2.  R\n",
    "3. Julia\n",
    "4.  C++"
   ]
  },
  {
   "cell_type": "markdown",
   "id": "895109ac-aefb-4fef-bd34-9e7300080d18",
   "metadata": {},
   "source": [
    "Some of the commonly used libraries used by Data Scientists include:"
   ]
  },
  {
   "cell_type": "markdown",
   "id": "ba959c71-a65d-43b5-aeb1-0379dff723a1",
   "metadata": {},
   "source": [
    "1.  NumPy\n",
    "2.  Pandas\n",
    "3.  Matplotlib\n",
    "4.  Keras"
   ]
  },
  {
   "cell_type": "markdown",
   "id": "298218c5-05dd-43ea-8b92-3ed49c52033b",
   "metadata": {},
   "source": [
    "|Data Science Tools|\n",
    "--------------------\n",
    "|Python|\n",
    "|SQL|\n",
    "|ApacheSPark|\n",
    "|Git|"
   ]
  },
  {
   "cell_type": "markdown",
   "id": "64a2b91b-95bd-4669-8919-e5475f6770ad",
   "metadata": {},
   "source": [
    "### Below are a few examples of evaluating arithmetic expressions in Python"
   ]
  },
  {
   "cell_type": "code",
   "execution_count": 2,
   "id": "139ddc3a-7d88-4660-84be-dbcf061644e4",
   "metadata": {
    "tags": []
   },
   "outputs": [
    {
     "data": {
      "text/plain": [
       "17"
      ]
     },
     "execution_count": 2,
     "metadata": {},
     "output_type": "execute_result"
    }
   ],
   "source": [
    "#This a simple arithmetic expression to mutiply then add integers\n",
    "(3*4)+5"
   ]
  },
  {
   "cell_type": "code",
   "execution_count": 4,
   "id": "5eba6584-e1f0-4623-b6fe-89c6d9a7d9c2",
   "metadata": {
    "tags": []
   },
   "outputs": [
    {
     "data": {
      "text/plain": [
       "3.3333333333333335"
      ]
     },
     "execution_count": 4,
     "metadata": {},
     "output_type": "execute_result"
    }
   ],
   "source": [
    "#This will convert 200 minutes to hours by diving by 60\n",
    "200/60"
   ]
  },
  {
   "cell_type": "markdown",
   "id": "8a825a09-c509-440d-a2b2-d2921b7510bd",
   "metadata": {
    "tags": []
   },
   "source": [
    "**Objectives:**\n"
   ]
  },
  {
   "cell_type": "markdown",
   "id": "4e9a330e-684d-49f4-9410-68651d80394f",
   "metadata": {},
   "source": [
    "* Python\n",
    "* R\n",
    "* SQL\n"
   ]
  },
  {
   "cell_type": "markdown",
   "id": "f971259a-16b3-460b-b4d6-54bf610d713b",
   "metadata": {},
   "source": [
    "## Author:\n",
    "Ana Markovic"
   ]
  },
  {
   "cell_type": "code",
   "execution_count": null,
   "id": "066c5ec7-1091-4417-b250-fced0134cd4a",
   "metadata": {},
   "outputs": [],
   "source": []
  }
 ],
 "metadata": {
  "kernelspec": {
   "display_name": "Python",
   "language": "python",
   "name": "conda-env-python-py"
  },
  "language_info": {
   "codemirror_mode": {
    "name": "ipython",
    "version": 3
   },
   "file_extension": ".py",
   "mimetype": "text/x-python",
   "name": "python",
   "nbconvert_exporter": "python",
   "pygments_lexer": "ipython3",
   "version": "3.7.12"
  }
 },
 "nbformat": 4,
 "nbformat_minor": 5
}
